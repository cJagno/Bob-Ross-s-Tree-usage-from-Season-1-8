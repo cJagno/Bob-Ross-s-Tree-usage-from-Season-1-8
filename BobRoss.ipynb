{
  "nbformat": 4,
  "nbformat_minor": 0,
  "metadata": {
    "colab": {
      "name": "BobRoss.ipynb",
      "provenance": [],
      "authorship_tag": "ABX9TyOChrKL8fCHk/PBeFtJ5kOm",
      "include_colab_link": true
    },
    "kernelspec": {
      "name": "python3",
      "display_name": "Python 3"
    },
    "language_info": {
      "name": "python"
    }
  },
  "cells": [
    {
      "cell_type": "markdown",
      "metadata": {
        "id": "view-in-github",
        "colab_type": "text"
      },
      "source": [
        "<a href=\"https://colab.research.google.com/github/cJagno/Bob-Ross-s-Tree-usage-from-Season-1-8/blob/main/BobRoss.ipynb\" target=\"_parent\"><img src=\"https://colab.research.google.com/assets/colab-badge.svg\" alt=\"Open In Colab\"/></a>"
      ]
    },
    {
      "cell_type": "markdown",
      "metadata": {
        "id": "2F8h40NjTfbJ"
      },
      "source": [
        ""
      ]
    },
    {
      "cell_type": "code",
      "metadata": {
        "colab": {
          "base_uri": "https://localhost:8080/"
        },
        "id": "gwXVDRVoTZ7Y",
        "outputId": "ed2c4ce4-0c84-45e7-b6af-112b062c3ee8"
      },
      "source": [
        "from google.colab import drive\n",
        "drive.mount('/content/drive')"
      ],
      "execution_count": 261,
      "outputs": [
        {
          "output_type": "stream",
          "text": [
            "Drive already mounted at /content/drive; to attempt to forcibly remount, call drive.mount(\"/content/drive\", force_remount=True).\n"
          ],
          "name": "stdout"
        }
      ]
    },
    {
      "cell_type": "code",
      "metadata": {
        "id": "NARXRRzpTowZ"
      },
      "source": [
        "import matplotlib.pyplot as plt\n",
        "import pandas as pd\n",
        "import numpy as np\n",
        "import seaborn as sns"
      ],
      "execution_count": 262,
      "outputs": []
    },
    {
      "cell_type": "code",
      "metadata": {
        "colab": {
          "base_uri": "https://localhost:8080/"
        },
        "id": "yhqeAMKfT0bO",
        "outputId": "bac75968-bb85-4fa2-f602-5e446d162166"
      },
      "source": [
        "filename = '/content/drive/MyDrive/PT_Data_Science/PandasForDataManipulation/elements-by-episode.csv'\n",
        "df = pd.read_csv(filename)\n",
        "df.info()"
      ],
      "execution_count": 263,
      "outputs": [
        {
          "output_type": "stream",
          "text": [
            "<class 'pandas.core.frame.DataFrame'>\n",
            "RangeIndex: 403 entries, 0 to 402\n",
            "Data columns (total 69 columns):\n",
            " #   Column              Non-Null Count  Dtype \n",
            "---  ------              --------------  ----- \n",
            " 0   EPISODE             403 non-null    object\n",
            " 1   TITLE               403 non-null    object\n",
            " 2   APPLE_FRAME         403 non-null    int64 \n",
            " 3   AURORA_BOREALIS     403 non-null    int64 \n",
            " 4   BARN                403 non-null    int64 \n",
            " 5   BEACH               403 non-null    int64 \n",
            " 6   BOAT                403 non-null    int64 \n",
            " 7   BRIDGE              403 non-null    int64 \n",
            " 8   BUILDING            403 non-null    int64 \n",
            " 9   BUSHES              403 non-null    int64 \n",
            " 10  CABIN               403 non-null    int64 \n",
            " 11  CACTUS              403 non-null    int64 \n",
            " 12  CIRCLE_FRAME        403 non-null    int64 \n",
            " 13  CIRRUS              403 non-null    int64 \n",
            " 14  CLIFF               403 non-null    int64 \n",
            " 15  CLOUDS              403 non-null    int64 \n",
            " 16  CONIFER             403 non-null    int64 \n",
            " 17  CUMULUS             403 non-null    int64 \n",
            " 18  DECIDUOUS           403 non-null    int64 \n",
            " 19  DIANE_ANDRE         403 non-null    int64 \n",
            " 20  DOCK                403 non-null    int64 \n",
            " 21  DOUBLE_OVAL_FRAME   403 non-null    int64 \n",
            " 22  FARM                403 non-null    int64 \n",
            " 23  FENCE               403 non-null    int64 \n",
            " 24  FIRE                403 non-null    int64 \n",
            " 25  FLORIDA_FRAME       403 non-null    int64 \n",
            " 26  FLOWERS             403 non-null    int64 \n",
            " 27  FOG                 403 non-null    int64 \n",
            " 28  FRAMED              403 non-null    int64 \n",
            " 29  GRASS               403 non-null    int64 \n",
            " 30  GUEST               403 non-null    int64 \n",
            " 31  HALF_CIRCLE_FRAME   403 non-null    int64 \n",
            " 32  HALF_OVAL_FRAME     403 non-null    int64 \n",
            " 33  HILLS               403 non-null    int64 \n",
            " 34  LAKE                403 non-null    int64 \n",
            " 35  LAKES               403 non-null    int64 \n",
            " 36  LIGHTHOUSE          403 non-null    int64 \n",
            " 37  MILL                403 non-null    int64 \n",
            " 38  MOON                403 non-null    int64 \n",
            " 39  MOUNTAIN            403 non-null    int64 \n",
            " 40  MOUNTAINS           403 non-null    int64 \n",
            " 41  NIGHT               403 non-null    int64 \n",
            " 42  OCEAN               403 non-null    int64 \n",
            " 43  OVAL_FRAME          403 non-null    int64 \n",
            " 44  PALM_TREES          403 non-null    int64 \n",
            " 45  PATH                403 non-null    int64 \n",
            " 46  PERSON              403 non-null    int64 \n",
            " 47  PORTRAIT            403 non-null    int64 \n",
            " 48  RECTANGLE_3D_FRAME  403 non-null    int64 \n",
            " 49  RECTANGULAR_FRAME   403 non-null    int64 \n",
            " 50  RIVER               403 non-null    int64 \n",
            " 51  ROCKS               403 non-null    int64 \n",
            " 52  SEASHELL_FRAME      403 non-null    int64 \n",
            " 53  SNOW                403 non-null    int64 \n",
            " 54  SNOWY_MOUNTAIN      403 non-null    int64 \n",
            " 55  SPLIT_FRAME         403 non-null    int64 \n",
            " 56  STEVE_ROSS          403 non-null    int64 \n",
            " 57  STRUCTURE           403 non-null    int64 \n",
            " 58  SUN                 403 non-null    int64 \n",
            " 59  TOMB_FRAME          403 non-null    int64 \n",
            " 60  TREE                403 non-null    int64 \n",
            " 61  TREES               403 non-null    int64 \n",
            " 62  TRIPLE_FRAME        403 non-null    int64 \n",
            " 63  WATERFALL           403 non-null    int64 \n",
            " 64  WAVES               403 non-null    int64 \n",
            " 65  WINDMILL            403 non-null    int64 \n",
            " 66  WINDOW_FRAME        403 non-null    int64 \n",
            " 67  WINTER              403 non-null    int64 \n",
            " 68  WOOD_FRAMED         403 non-null    int64 \n",
            "dtypes: int64(67), object(2)\n",
            "memory usage: 217.4+ KB\n"
          ],
          "name": "stdout"
        }
      ]
    },
    {
      "cell_type": "code",
      "metadata": {
        "id": "v0RCDlTkT-os"
      },
      "source": [
        "season1 = df.loc[df['EPISODE'].str.startswith('S01').values]\n",
        "season2 = df.loc[df['EPISODE'].str.startswith('S02').values] \n",
        "season3 = df.loc[df['EPISODE'].str.startswith('S03').values]\n",
        "season4 = df.loc[df['EPISODE'].str.startswith('S04').values]\n",
        "season5 = df.loc[df['EPISODE'].str.startswith('S05').values]\n",
        "season6 = df.loc[df['EPISODE'].str.startswith('S06').values]\n",
        "season7 = df.loc[df['EPISODE'].str.startswith('S07').values]\n",
        "season8 = df.loc[df['EPISODE'].str.startswith('S08').values]"
      ],
      "execution_count": 264,
      "outputs": []
    },
    {
      "cell_type": "code",
      "metadata": {
        "colab": {
          "base_uri": "https://localhost:8080/"
        },
        "id": "A4_j3kzmT_6j",
        "outputId": "abd6af49-2526-43bd-8dc1-751bfc21a9d2"
      },
      "source": [
        "episodes1 = len(season1['EPISODE'].index)\n",
        "episodes2 = len(season2['EPISODE'].index)\n",
        "episodes3 = len(season3['EPISODE'].index)\n",
        "episodes4 = len(season4['EPISODE'].index)\n",
        "episodes5 = len(season5['EPISODE'].index)\n",
        "episodes6 = len(season6['EPISODE'].index)\n",
        "episodes7 = len(season7['EPISODE'].index)\n",
        "episodes8 = len(season8['EPISODE'].index)\n",
        "\n",
        "tree1 = season1['TREE'].sum()\n",
        "trees1 = season1['TREES'].sum()\n",
        "tree2 = season2['TREE'].sum()\n",
        "trees2 = season2['TREES'].sum()\n",
        "tree3 = season3['TREE'].sum()\n",
        "trees3 = season3['TREES'].sum()\n",
        "tree4 = season4['TREE'].sum()\n",
        "trees4 = season4['TREES'].sum()\n",
        "tree5 = season5['TREE'].sum()\n",
        "trees5 = season5['TREES'].sum()\n",
        "tree6 = season6['TREE'].sum()\n",
        "trees6 = season6['TREES'].sum()\n",
        "tree7 = season7['TREE'].sum()\n",
        "trees7 = season7['TREES'].sum()\n",
        "tree8 = season8['TREE'].sum()\n",
        "trees8 = season8['TREES'].sum()\n",
        "s1trees = tree1 & trees1\n",
        "s2trees = tree2 & trees2\n",
        "episodes8"
      ],
      "execution_count": 265,
      "outputs": [
        {
          "output_type": "execute_result",
          "data": {
            "text/plain": [
              "13"
            ]
          },
          "metadata": {
            "tags": []
          },
          "execution_count": 265
        }
      ]
    },
    {
      "cell_type": "code",
      "metadata": {
        "colab": {
          "base_uri": "https://localhost:8080/",
          "height": 774
        },
        "id": "D_RVfr3SVwTo",
        "outputId": "aa80e6fa-2984-4fda-eb41-83825d645c32"
      },
      "source": [
        "#plt.bar(episodes1, tree1, trees1)\n",
        "#plt.legend(loc= (1.02, 0)\n",
        "bars1 = [tree1, tree2, tree3, tree4, tree5, tree6, tree7, tree8]\n",
        "bars2 = [trees1, trees2, trees3, trees4, trees5, trees6, trees7, trees8]\n",
        "positions = [0, 1, 2, 3, 4, 5, 6, 7]\n",
        "positions2 = [0.3, 1.3, 2.3, 3.3, 4.3, 5.3, 6.3, 7.3]\n",
        "fig = plt.figure(figsize = (12,10))\n",
        "\n",
        "xbars = ['Season 1, 13 Eps.','Season 2, 13 Eps.','Season 3, 13 Eps.','Season 4, 13 Eps.','Season 5, 13 Eps.',\n",
        "         'Season 6, 13 Eps.','Season 7, 13 Eps.','Season 8, 13 Eps.']\n",
        "plt.rcParams['font.family'] = 'serif'\n",
        "plt.style.use('dark_background')\n",
        "plt.grid(False)\n",
        "plt.bar(positions, bars1, width=0.3, color='lightgreen', label= 'Single Tree')\n",
        "plt.bar(positions2, bars2, width=0.3, color='skyblue', label = \"Multiple Trees\")\n",
        "plt.xticks(positions, xbars)\n",
        "plt.xticks(rotation = 45)\n",
        "plt.ylabel('Number of Paintings', fontsize = 16)\n",
        "plt.xlabel('Season', fontsize = 16)\n",
        "plt.title(\"\"\"The Amount of times trees were drawn in Bob Ross's paintings from Seasons 1-8\"\"\", fontsize = 16)\n",
        "plt.legend()"
      ],
      "execution_count": 284,
      "outputs": [
        {
          "output_type": "execute_result",
          "data": {
            "text/plain": [
              "<matplotlib.legend.Legend at 0x7fc9cb1dde90>"
            ]
          },
          "metadata": {
            "tags": []
          },
          "execution_count": 284
        },
        {
          "output_type": "display_data",
          "data": {
            "image/png": "[encoded data removed]",
            "text/plain": [
              "<Figure size 864x720 with 1 Axes>"
            ]
          },
          "metadata": {
            "tags": []
          }
        }
      ]
    },
    {
      "cell_type": "code",
      "metadata": {
        "id": "G8iCyZ3XMgyT"
      },
      "source": [
        ""
      ],
      "execution_count": null,
      "outputs": []
    }
  ]
}